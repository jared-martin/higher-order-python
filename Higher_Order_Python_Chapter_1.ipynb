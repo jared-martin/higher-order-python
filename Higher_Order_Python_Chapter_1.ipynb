{
  "nbformat": 4,
  "nbformat_minor": 0,
  "metadata": {
    "colab": {
      "name": "Higher Order Python - Chapter 1.ipynb",
      "provenance": [],
      "authorship_tag": "ABX9TyPFp5833Tym1NgVA+xplF9J",
      "include_colab_link": true
    },
    "kernelspec": {
      "name": "python3",
      "display_name": "Python 3"
    },
    "language_info": {
      "name": "python"
    }
  },
  "cells": [
    {
      "cell_type": "markdown",
      "metadata": {
        "id": "view-in-github",
        "colab_type": "text"
      },
      "source": [
        "<a href=\"https://colab.research.google.com/github/jared-martin/higher-order-python/blob/main/Higher_Order_Python_Chapter_1.ipynb\" target=\"_parent\"><img src=\"https://colab.research.google.com/assets/colab-badge.svg\" alt=\"Open In Colab\"/></a>"
      ]
    },
    {
      "cell_type": "markdown",
      "source": [
        "# 1. Recursion and Callbacks\n",
        "\n",
        "Recursion is a method of solving a problem by reducing it to a simpler problem of the same type."
      ],
      "metadata": {
        "id": "wO-Wklc4ZHuj"
      }
    },
    {
      "cell_type": "markdown",
      "source": [
        "### 1.1 Decimal To Binary Conversion\n",
        "\n",
        "Any whole number has the form `2k + b`, where `k` is some smaller whole number and `b` is either 0 or 1. `b` is the final bit of the binary expansion. It’s easy to see whether this final bit is 0 or 1; just look to see whether the input number is even or odd. The rest of the number is `2k`, whose binary expansion is the same as that of `k`, but shifted left one place."
      ],
      "metadata": {
        "id": "J_KayQOoCoW3"
      }
    },
    {
      "cell_type": "code",
      "execution_count": 1,
      "metadata": {
        "colab": {
          "base_uri": "https://localhost:8080/",
          "height": 35
        },
        "id": "PrMKk1F_CMIE",
        "outputId": "5806e84f-2e98-447d-8000-311d157aa060"
      },
      "outputs": [
        {
          "output_type": "execute_result",
          "data": {
            "application/vnd.google.colaboratory.intrinsic+json": {
              "type": "string"
            },
            "text/plain": [
              "'100101'"
            ]
          },
          "metadata": {},
          "execution_count": 1
        }
      ],
      "source": [
        "def binary(n: int) -> str:\n",
        "    if n in (0, 1):\n",
        "        return str(n)\n",
        "    else:\n",
        "        k, b = divmod(n, 2)\n",
        "        return binary(k) + str(b)\n",
        "\n",
        "binary(37)"
      ]
    },
    {
      "cell_type": "markdown",
      "source": [
        "Note that the above will only work for a non-negative integer.  We could add type checking at the start of the function call, but then it would check the type of all the values of `k` on all the recursive calls.  But if `n` is a non-negative integer then we know `k` is a non-negative integer, so we don't *need* to check type recursively.\n",
        "\n",
        "One solution would be to make the above function a private method, and create a *different* public method that checks the type of `n` before calling the above function."
      ],
      "metadata": {
        "id": "GFXxSeKjGGNY"
      }
    },
    {
      "cell_type": "markdown",
      "source": [
        "As a mental exercise, I implemented binary expansion using a generator:"
      ],
      "metadata": {
        "id": "F1q5-bDxOsd1"
      }
    },
    {
      "cell_type": "code",
      "source": [
        "from typing import Generator\n",
        "\n",
        "\n",
        "def gen_binary_bits(n: int) -> Generator[str, None, None]:\n",
        "    if n in (0, 1):\n",
        "        yield str(n)\n",
        "    else:\n",
        "        k, b = divmod(n, 2)\n",
        "        yield from binary(k)\n",
        "        yield str(b)\n",
        "\n",
        "''.join(gen_binary_bits(37))"
      ],
      "metadata": {
        "colab": {
          "base_uri": "https://localhost:8080/",
          "height": 35
        },
        "id": "uBoCq9urO1mM",
        "outputId": "f3db7d82-d9fd-40f6-deeb-fb5013b5eb7d"
      },
      "execution_count": 3,
      "outputs": [
        {
          "output_type": "execute_result",
          "data": {
            "application/vnd.google.colaboratory.intrinsic+json": {
              "type": "string"
            },
            "text/plain": [
              "'100101'"
            ]
          },
          "metadata": {},
          "execution_count": 3
        }
      ]
    },
    {
      "cell_type": "markdown",
      "source": [
        "### 1.2 Factorial\n",
        "\n",
        "Suppose you have a list of `n` different items. For concreteness, we’ll suppose that these items are letters of the alphabet. How many different orders are there for such a list? Obviously, the answer depends on `n`, so it is a function of `n`. This function is called the factorial function. The factorial of `n` is the number of different orders for a list of `n` different items. Mathematicians usually write it as a postfix (!) mark, so that the factorial of `n` is `n!`. They also call the different orders permutations."
      ],
      "metadata": {
        "id": "Un-VKY5EPlNA"
      }
    },
    {
      "cell_type": "code",
      "source": [
        "def factorial(n: int) -> int:\n",
        "    if n == 0:\n",
        "        return 1\n",
        "    else:\n",
        "        return factorial(n - 1) * n\n",
        "\n",
        "factorial(4)"
      ],
      "metadata": {
        "colab": {
          "base_uri": "https://localhost:8080/"
        },
        "id": "BPGj65rZP81M",
        "outputId": "235983dc-a3f5-4a70-c361-6fc11666b7bc"
      },
      "execution_count": 19,
      "outputs": [
        {
          "output_type": "execute_result",
          "data": {
            "text/plain": [
              "24"
            ]
          },
          "metadata": {},
          "execution_count": 19
        }
      ]
    },
    {
      "cell_type": "markdown",
      "source": [
        "I also implemented this using a generator, as a mental exercise:"
      ],
      "metadata": {
        "id": "5F1ny7XYQf_D"
      }
    },
    {
      "cell_type": "code",
      "source": [
        "def gen_factorial_factors(n: int) -> Generator[int, None, None]:\n",
        "    if n == 0:\n",
        "        yield 1\n",
        "    else:\n",
        "        # If you put this after the recursive call, it reverses the order!\n",
        "        yield n\n",
        "        yield from gen_factorial_factors(n - 1)\n",
        "\n",
        "list(gen_factorial_factors(4))"
      ],
      "metadata": {
        "colab": {
          "base_uri": "https://localhost:8080/"
        },
        "id": "mfSAYspzQywu",
        "outputId": "10c3c2d0-daee-406f-ad09-7172e2973826"
      },
      "execution_count": 20,
      "outputs": [
        {
          "output_type": "execute_result",
          "data": {
            "text/plain": [
              "[4, 3, 2, 1, 1]"
            ]
          },
          "metadata": {},
          "execution_count": 20
        }
      ]
    },
    {
      "cell_type": "markdown",
      "source": [
        "Doing it this way made me notice something.  If we make the base case `n == 0`, it does the last operation (multiplying by 1) one extra time.  We can fix this by making the base case `n <= 1`."
      ],
      "metadata": {
        "id": "9Z5p6EVGRl19"
      }
    },
    {
      "cell_type": "code",
      "source": [
        "def gen_factorial_factors(n: int) -> Generator[int, None, None]:\n",
        "    if n <= 1:  # Improved base case\n",
        "        yield 1\n",
        "    else:\n",
        "        # If you put this after the recursive call, it reverses the order!\n",
        "        yield n\n",
        "        yield from gen_factorial_factors(n - 1)\n",
        "\n",
        "list(gen_factorial_factors(4))"
      ],
      "metadata": {
        "colab": {
          "base_uri": "https://localhost:8080/"
        },
        "id": "X44aZfSzR16j",
        "outputId": "00f7423a-77a1-4bab-827d-b69e2fef4b8f"
      },
      "execution_count": 21,
      "outputs": [
        {
          "output_type": "execute_result",
          "data": {
            "text/plain": [
              "[4, 3, 2, 1]"
            ]
          },
          "metadata": {},
          "execution_count": 21
        }
      ]
    },
    {
      "cell_type": "markdown",
      "source": [
        "We can then find the factorial by reducing the generator using multiplication:"
      ],
      "metadata": {
        "id": "aUiGT9qjSAMq"
      }
    },
    {
      "cell_type": "code",
      "source": [
        "import functools\n",
        "import operator\n",
        "\n",
        "\n",
        "def silly_factorial(n: int) -> int:\n",
        "    return functools.reduce(operator.mul, gen_factorial_factors(n))\n",
        "\n",
        "silly_factorial(4)"
      ],
      "metadata": {
        "colab": {
          "base_uri": "https://localhost:8080/"
        },
        "id": "DlA-WaapSFfH",
        "outputId": "f463bab0-dd32-4df1-f8da-2d1911989f87"
      },
      "execution_count": 22,
      "outputs": [
        {
          "output_type": "execute_result",
          "data": {
            "text/plain": [
              "24"
            ]
          },
          "metadata": {},
          "execution_count": 22
        }
      ]
    },
    {
      "cell_type": "markdown",
      "source": [
        "Since the book motivates the discussion of factorial by talking about permutations, I decided to try implementing a permutation generator too:"
      ],
      "metadata": {
        "id": "VQjIVVbKSopm"
      }
    },
    {
      "cell_type": "code",
      "source": [
        "def gen_permutations(items: list) -> Generator[list, None, None]:\n",
        "    if len(items) <= 1:\n",
        "        yield items\n",
        "    elif len(items) == 2:\n",
        "        yield items\n",
        "        yield list(reversed(items))\n",
        "    else:\n",
        "        item, *other_items = items\n",
        "        for permutation in gen_permutations(other_items):\n",
        "            # Insert one item at each spot in each permutation of the others\n",
        "            for index in range(len(permutation) + 1):\n",
        "                yield permutation[:index] + [item] + permutation[index:]\n",
        "\n",
        "items = list('ABCD')\n",
        "permutations = list(map(''.join, gen_permutations(items)))\n",
        "\n",
        "assert(len(permutations) == factorial(len(items)))\n",
        "permutations"
      ],
      "metadata": {
        "colab": {
          "base_uri": "https://localhost:8080/"
        },
        "id": "qD7_aU_NSs85",
        "outputId": "1df351cc-8e57-4f0a-b594-946baafa9867"
      },
      "execution_count": 30,
      "outputs": [
        {
          "output_type": "execute_result",
          "data": {
            "text/plain": [
              "['ABCD',\n",
              " 'BACD',\n",
              " 'BCAD',\n",
              " 'BCDA',\n",
              " 'ACBD',\n",
              " 'CABD',\n",
              " 'CBAD',\n",
              " 'CBDA',\n",
              " 'ACDB',\n",
              " 'CADB',\n",
              " 'CDAB',\n",
              " 'CDBA',\n",
              " 'ABDC',\n",
              " 'BADC',\n",
              " 'BDAC',\n",
              " 'BDCA',\n",
              " 'ADBC',\n",
              " 'DABC',\n",
              " 'DBAC',\n",
              " 'DBCA',\n",
              " 'ADCB',\n",
              " 'DACB',\n",
              " 'DCAB',\n",
              " 'DCBA']"
            ]
          },
          "metadata": {},
          "execution_count": 30
        }
      ]
    },
    {
      "cell_type": "markdown",
      "source": [
        "### 1.3 The Tower of Hanoi\n",
        "\n",
        "The puzzle has three pegs, called A, B, and C. On peg A is a tower of disks of graduated sizes, with the largest on the bottom and the smallest on the top. The puzzle is to move the entire tower from A to C, subject to the following restrictions: you may move only one disk at a time, and no disk may ever rest atop a smaller disk. The number of disks varies depending on who is posing the problem, but it is traditionally 64. We will try to solve the problem in the general case, for `n` disks."
      ],
      "metadata": {
        "id": "rx9LDd1FmrQf"
      }
    },
    {
      "cell_type": "code",
      "source": [
        "def hanoi(n: int, start, end, extra):\n",
        "    if (n == 1):\n",
        "        # If the \"tower\" is actually only one disk high, just move it\n",
        "        print(f'Move disk #1 from {start} to {end}')\n",
        "    else:\n",
        "        # Move all the disks except for disk n (the Big Disk) from the start\n",
        "        # peg to the extra peg, using this method\n",
        "        hanoi(n - 1, start, extra, end)\n",
        "        # Move disk n (the Big Disk) from the start peg to the end peg\n",
        "        print(f'Move disk #{n} from {start} to {end}')\n",
        "        # Move all the other disks from the extra peg to the end peg, using this\n",
        "        # method\n",
        "        hanoi(n - 1, extra, end, start)\n",
        "\n",
        "hanoi(3, *list('ABC'))"
      ],
      "metadata": {
        "colab": {
          "base_uri": "https://localhost:8080/"
        },
        "id": "7iubmp8_m9S1",
        "outputId": "abf4ab8f-eb6e-40d8-f78d-fea3f26abde2"
      },
      "execution_count": 34,
      "outputs": [
        {
          "output_type": "stream",
          "name": "stdout",
          "text": [
            "Move disk #1 from A to B\n",
            "Move disk #2 from A to C\n",
            "Move disk #1 from B to C\n",
            "Move disk #3 from A to B\n",
            "Move disk #1 from C to A\n",
            "Move disk #2 from C to B\n",
            "Move disk #1 from A to B\n"
          ]
        }
      ]
    },
    {
      "cell_type": "markdown",
      "source": [
        "If we wanted a graphic display of moving disks instead of a simple printout of instructions, we could replace the print statements with something fancier. But we can make the software more flexible almost for free by parametrizing the output behavior. Instead of having a print statement hardwired in, `hanoi()` will accept an extra argument that is a function that will be called each time `hanoi()` wants to move a disk. This function will print an instruction, or update a graphical display, or do whatever else we want. The function will be passed the number of the disk, and the source and destination pegs."
      ],
      "metadata": {
        "id": "j_w6UQeLorRd"
      }
    },
    {
      "cell_type": "code",
      "source": [
        "from collections.abc import Callable\n",
        "\n",
        "\n",
        "def hanoi_with_callback(n: int, start, end, extra, move_disk: Callable):\n",
        "    if (n == 1):\n",
        "        move_disk(1, start, end)\n",
        "    else:\n",
        "        hanoi_with_callback(n - 1, start, extra, end, move_disk)\n",
        "        move_disk(n, start, end)\n",
        "        hanoi_with_callback(n - 1, extra, end, start, move_disk)\n",
        "\n",
        "\n",
        "def print_instruction(disk: int, start, end):\n",
        "    print(f'Move disk #{disk} from {start} to {end}')\n",
        "\n",
        "hanoi_with_callback(3, *list('ABC'), print_instruction)"
      ],
      "metadata": {
        "colab": {
          "base_uri": "https://localhost:8080/"
        },
        "id": "TqlJP08Ho9z3",
        "outputId": "ad1b8518-432d-4f84-e31a-c2185ec5ce20"
      },
      "execution_count": 64,
      "outputs": [
        {
          "output_type": "stream",
          "name": "stdout",
          "text": [
            "Move disk #1 from A to B\n",
            "Move disk #2 from A to C\n",
            "Move disk #1 from B to C\n",
            "Move disk #3 from A to B\n",
            "Move disk #1 from C to A\n",
            "Move disk #2 from C to B\n",
            "Move disk #1 from A to B\n"
          ]
        }
      ]
    },
    {
      "cell_type": "markdown",
      "source": [
        "### 1.4 Hierarchical Data\n",
        "Most recursive functions are built to deal with recursive data structures. A recursive data structure is one like a list, tree, or heap that is defined in terms of simpler instances of the same data structure. The most familiar example is probably a file system directory structure."
      ],
      "metadata": {
        "id": "Yyu0kH0W2aXs"
      }
    },
    {
      "cell_type": "code",
      "source": [
        "from pathlib import Path\n",
        "\n",
        "\n",
        "def total_size(top: Path) -> int:\n",
        "    total = top.stat().st_size\n",
        "    if top.is_file():\n",
        "        return total\n",
        "    else:\n",
        "        for path in top.iterdir():\n",
        "            total += total_size(path)\n",
        "    return total\n",
        "\n",
        "total_size(Path('.'))"
      ],
      "metadata": {
        "colab": {
          "base_uri": "https://localhost:8080/"
        },
        "id": "wSfnFV1B2rjd",
        "outputId": "8cfa15ab-2ad9-4161-dbc9-5630ec3d25ef"
      },
      "execution_count": 39,
      "outputs": [
        {
          "output_type": "execute_result",
          "data": {
            "text/plain": [
              "56889676"
            ]
          },
          "metadata": {},
          "execution_count": 39
        }
      ]
    },
    {
      "cell_type": "markdown",
      "source": [
        "### 1.5 Applications and Variations of Directory Walking\n",
        "\n",
        "We had written a function, `total_size()`, which contained useful functionality: it walked a directory tree recursively. If we could cleanly separate the directory-walking part of the code from the total-size-computing part, then we might be able to re-use the directory-walking part in many other projects for many other purposes. How can we separate the two functionalities?"
      ],
      "metadata": {
        "id": "3VnWNUrp3w3U"
      }
    },
    {
      "cell_type": "code",
      "source": [
        "def dir_walk(top: Path, code: Callable):\n",
        "    code(top)\n",
        "    if top.is_dir():\n",
        "        for path in top.iterdir():\n",
        "            dir_walk(path, code)\n",
        "\n",
        "dir_walk(Path('.'), print)"
      ],
      "metadata": {
        "colab": {
          "base_uri": "https://localhost:8080/"
        },
        "id": "_IuWT3Fh4SZy",
        "outputId": "a151e40c-c6cb-413b-8df9-4939c8b0af67"
      },
      "execution_count": 41,
      "outputs": [
        {
          "output_type": "stream",
          "name": "stdout",
          "text": [
            ".\n",
            ".config\n",
            ".config/.last_update_check.json\n",
            ".config/.last_opt_in_prompt.yaml\n",
            ".config/active_config\n",
            ".config/.last_survey_prompt.yaml\n",
            ".config/config_sentinel\n",
            ".config/configurations\n",
            ".config/configurations/config_default\n",
            ".config/logs\n",
            ".config/logs/2022.02.01\n",
            ".config/logs/2022.02.01/14.30.57.022317.log\n",
            ".config/logs/2022.02.01/14.31.40.709264.log\n",
            ".config/logs/2022.02.01/14.31.33.364834.log\n",
            ".config/logs/2022.02.01/14.31.58.218326.log\n",
            ".config/logs/2022.02.01/14.31.16.993813.log\n",
            ".config/logs/2022.02.01/14.31.57.576848.log\n",
            ".config/gce\n",
            "sample_data\n",
            "sample_data/anscombe.json\n",
            "sample_data/README.md\n",
            "sample_data/california_housing_train.csv\n",
            "sample_data/mnist_train_small.csv\n",
            "sample_data/mnist_test.csv\n",
            "sample_data/california_housing_test.csv\n"
          ]
        }
      ]
    },
    {
      "cell_type": "markdown",
      "source": [
        "### 1.6 Functional Versus Object-Oriented Programming\n",
        "\n",
        "Now let’s back up a moment and look at what we did. We had a useful function, total_size(), which contained code for walking a directory structure that was going to be useful in other applications. So we made total_size() more general by pulling out all the parts that related to the computation of sizes, and replacing them with calls to arbitrary user-specified functions. The result was dir_walk(). Now, for any program that needs to walk a directory structure and do something, dir_walk() handles the walking part, and the argument functions handle the “do something” part. By passing the appropriate pair of functions to dir_walk(), we can make it do whatever we want it to. We’ve gained flexibility and the chance to re-use the dir_walk() code by factoring out the useful part and parametrizing it with two functional arguments. This is the heart of the functional style of programming\n",
        "\n",
        "Since there's no code in this section, I'll use it as an opportunity to implement `dir_walk()` with a generator so that `code()` can be mapped over it instead of passed to it as a callback."
      ],
      "metadata": {
        "id": "goKJHsFq5xk9"
      }
    },
    {
      "cell_type": "code",
      "source": [
        "def gen_paths_depth_first(top: Path) -> Generator[Path, None, None]:\n",
        "    yield top\n",
        "    if top.is_dir():\n",
        "        for path in top.iterdir():\n",
        "            yield from gen_paths_depth_first(path)\n",
        "\n",
        "for path in gen_paths_depth_first(Path('.')):\n",
        "    print(path)\n",
        "\n",
        "\n",
        "# You could even do this breadth first\n",
        "from collections import deque\n",
        "\n",
        "\n",
        "def gen_paths_breadth_first(top: Path) -> Generator[Path, None, None]:\n",
        "    paths = deque([top])\n",
        "    while len(paths) > 0:\n",
        "        # FIFO - if you pop it off the right instead, it's a DFS!\n",
        "        path = paths.popleft()\n",
        "        yield path\n",
        "        if path.is_dir():\n",
        "            for subpath in path.iterdir():\n",
        "                paths.append(subpath)"
      ],
      "metadata": {
        "colab": {
          "base_uri": "https://localhost:8080/"
        },
        "id": "lhy_q8BO6Vxw",
        "outputId": "8b809d50-d964-43a7-85df-afe23de1c859"
      },
      "execution_count": 49,
      "outputs": [
        {
          "output_type": "stream",
          "name": "stdout",
          "text": [
            ".\n",
            ".config\n",
            ".config/.last_update_check.json\n",
            ".config/.last_opt_in_prompt.yaml\n",
            ".config/active_config\n",
            ".config/.last_survey_prompt.yaml\n",
            ".config/config_sentinel\n",
            ".config/configurations\n",
            ".config/configurations/config_default\n",
            ".config/logs\n",
            ".config/logs/2022.02.01\n",
            ".config/logs/2022.02.01/14.30.57.022317.log\n",
            ".config/logs/2022.02.01/14.31.40.709264.log\n",
            ".config/logs/2022.02.01/14.31.33.364834.log\n",
            ".config/logs/2022.02.01/14.31.58.218326.log\n",
            ".config/logs/2022.02.01/14.31.16.993813.log\n",
            ".config/logs/2022.02.01/14.31.57.576848.log\n",
            ".config/gce\n",
            "sample_data\n",
            "sample_data/anscombe.json\n",
            "sample_data/README.md\n",
            "sample_data/california_housing_train.csv\n",
            "sample_data/mnist_train_small.csv\n",
            "sample_data/mnist_test.csv\n",
            "sample_data/california_housing_test.csv\n"
          ]
        }
      ]
    },
    {
      "cell_type": "markdown",
      "source": [
        "### 1.7 HTML\n",
        "\n",
        "`TODO`"
      ],
      "metadata": {
        "id": "i7c5snb29YPI"
      }
    },
    {
      "cell_type": "markdown",
      "source": [
        "### 1.8 When Recursion Blows Up\n",
        "\n",
        "Sometimes a problem appears to be naturally recursive, and then the recursive solution is grossly inefficient. A very simple example arises when you want to compute Fibonacci numbers. This is a rather unrealistic example, but it has the benefit of being very simple. We’ll see a more practical example of the same thing in Section 3.7."
      ],
      "metadata": {
        "id": "9v6Dyny39dZc"
      }
    },
    {
      "cell_type": "markdown",
      "source": [
        "#### 1.8.2 Fibonacci Numbers\n",
        "\n",
        "Fibonacci numbers are named for Leonardo of Pisa, whose nickname was Fibonacci, who discussed them in the 13th century in connection with a mathematical problem about rabbits. Initially, you have one pair of baby rabbits. Baby rabbits grow to adults in one month, and the following month they produce a new pair of baby rabbits, making two pairs.\n",
        "\n",
        "Assuming no rabbits die, and rabbit production continues, how many pairs of rabbits are there in each month?"
      ],
      "metadata": {
        "id": "G_MIDMwZ90SB"
      }
    },
    {
      "cell_type": "code",
      "source": [
        "def fib(month: int) -> int:\n",
        "    # XXX: This is a bad implementation!\n",
        "    if month < 2:\n",
        "        return 1\n",
        "    else:\n",
        "        return fib(month - 1) + fib(month - 2)\n",
        "\n",
        "print(fib(35))  # Takes 4 seconds!"
      ],
      "metadata": {
        "colab": {
          "base_uri": "https://localhost:8080/"
        },
        "id": "AepB4Thq97aJ",
        "outputId": "923adaa0-e0db-4c3e-fb67-1c4ed34c73b4"
      },
      "execution_count": 57,
      "outputs": [
        {
          "output_type": "stream",
          "name": "stdout",
          "text": [
            "14930352\n"
          ]
        }
      ]
    },
    {
      "cell_type": "markdown",
      "source": [
        "This is perfectly straightforward, but it has a problem: except for small arguments, it takes forever. If you ask for `fib(25)`, for example, it needs to make recursive calls to compute `fib(24)` and `fib(23)`. But the call to `fib(24)` also makes a recursive call to `fib(23)`, as well as another to compute `fib(22)`. Both calls to `fib(23)` will also call `fib(22)`, for a total of three times. It turns out that `fib(21)` is computed 5 times, `fib(20)` is computed 8 times, and `fib(19)` is computed 13 times."
      ],
      "metadata": {
        "id": "1cXkSXME_y9U"
      }
    },
    {
      "cell_type": "markdown",
      "source": [
        "#### 1.8.2 Partitioning\n",
        "\n",
        "Here’s a somewhat more realistic example. We have some valuable items, which we’ll call “treasures,” and we want to divide them evenly between two people. We know the value of each item, and we would like to ensure that both people get collections of items whose total value is the same. Or, to recast the problem in a more mundane light: we know the weight of each of the various groceries you bought today, and since you’re going to carry them home with one bag in each hand, you want to distribute the weight evenly.\n",
        "\n",
        "This problem is called the partition problem. We’ll generalize the problem a little: instead of trying to divide a list of treasures into two equal parts, we’ll try to find some share of the treasures whose total value is a given target amount. Finding an even division of the treasures is the same as finding a share whose value is half of the total value of all the treasures; then the other share is the rest of the treasures, whose total value is the same."
      ],
      "metadata": {
        "id": "txV3bYPCAHcu"
      }
    },
    {
      "cell_type": "code",
      "source": [
        "def find_share(target: int, treasures: tuple) -> tuple:\n",
        "    # XXX: This is a bad implementation!\n",
        "    if target == 0:\n",
        "        return ()\n",
        "    elif target < 0 or len(treasures) == 0:\n",
        "        return None\n",
        "    else:\n",
        "        first, *rest = treasures\n",
        "        solution = find_share(target - first, rest)\n",
        "        if solution is not None:\n",
        "            return (first, *solution)\n",
        "        else:\n",
        "            return find_share(target, rest)\n",
        "\n",
        "find_share(11, (1, 2, 3, 8))"
      ],
      "metadata": {
        "colab": {
          "base_uri": "https://localhost:8080/"
        },
        "id": "4xmWbnBKAgc5",
        "outputId": "2e3227df-368f-4066-f862-66917c18d3cb"
      },
      "execution_count": 67,
      "outputs": [
        {
          "output_type": "execute_result",
          "data": {
            "text/plain": [
              "(1, 2, 8)"
            ]
          },
          "metadata": {},
          "execution_count": 67
        }
      ]
    },
    {
      "cell_type": "markdown",
      "source": [
        "The idea of ignoring the first treasure and looking for a solution among the remaining treasures, thus reducing the problem to a simpler case, is natural. A solution without recursion would probably end up duplicating the underlying machinery of the recursive solution, and simulating the behavior of the function- call stack manually.\n",
        "\n",
        "Now solving the partition problem is easy; it’s a call to `find_share()`, which finds the first share, and then some extra work to compute the elements of the original array that are not included in the first share:"
      ],
      "metadata": {
        "id": "1r52O7B4IKlL"
      }
    },
    {
      "cell_type": "code",
      "source": [
        "from collections import Counter\n",
        "\n",
        "\n",
        "def relative_complement_preserving_dupes(tup1: tuple, tup2: tuple) -> tuple:\n",
        "    \"\"\"Return elements in the first tuple that are not in the second.  Example:\n",
        "    >>> relative_complement_preserving_dupes((1, 1, 2), (2, 3))\n",
        "    (1, 1)\n",
        "    \"\"\"\n",
        "    return tuple((Counter(tup1) - Counter(tup2)).elements())\n",
        "\n",
        "\n",
        "def partition(treasures):\n",
        "    total = sum(treasures)\n",
        "    share_1 = find_share(total/2, treasures)\n",
        "    if share_1 is None:\n",
        "        return None\n",
        "    else:\n",
        "        share_2 = relative_complement_preserving_dupes(treasures, share_1)\n",
        "        return (share_1, share_2)\n",
        "\n",
        "partition((1, 2, 3, 4, 6))"
      ],
      "metadata": {
        "colab": {
          "base_uri": "https://localhost:8080/"
        },
        "id": "jYE_7cTsITnO",
        "outputId": "e8f8fbf5-7b01-4b7f-8beb-8e1ce7252b97"
      },
      "execution_count": 69,
      "outputs": [
        {
          "output_type": "execute_result",
          "data": {
            "text/plain": [
              "((1, 3, 4), (2, 6))"
            ]
          },
          "metadata": {},
          "execution_count": 69
        }
      ]
    },
    {
      "cell_type": "markdown",
      "source": [
        "The find_share function, however, has a problem: it takes much too long to run, especially if there is no solution. It has essentially the same problem as fib did: it repeats the same work over and over. For example, suppose it is trying to find a division of `1 2 3 4 5 6 7` with target sum 14. It might be investigating shares shares that contain 1 and 3, and then look to see if it can make `5 6 7` hit the target sum of 10. It can’t, so it will look for other solutions. Later on, it might investigate shares that contain 4, and again look to see if it can make `5 6 7` hit the target sum of 10. This is a waste of time; find_share should remember that `5 6 7` cannot hit a target sum of 10 from the first time it investigated that."
      ],
      "metadata": {
        "id": "ghLYM0DIYsfJ"
      }
    }
  ]
}